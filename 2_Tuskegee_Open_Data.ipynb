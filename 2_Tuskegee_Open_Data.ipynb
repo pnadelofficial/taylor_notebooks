{
 "cells": [
  {
   "cell_type": "code",
   "execution_count": 1,
   "id": "0141bdaf",
   "metadata": {
    "scrolled": true
   },
   "outputs": [],
   "source": [
    "%%capture\n",
    "!pip install whoosh\n",
    "!wget https://tufts.box.com/shared/static/rm3jy760ci9tpvmqk4fmb4ybgbivyphj.zip -O ./tuskegee_index.zip\n",
    "!unzip ./tuskegee_index.zip"
   ]
  },
  {
   "cell_type": "markdown",
   "id": "623eaddb",
   "metadata": {},
   "source": [
    "# Tuskegee Syphilis Study Simple Search Engine\n",
    "\n",
    "In the application below, you can search for anything in the [documents on the origin and development of the Tuskegee syphilis study](https://collections.nlm.nih.gov/catalog/nlm:nlmuid-2934097R-root), recently published by the National Institutes of Health (NIH). Though these data are available, they are not accessible. There is no native tool for indexing or searching through them. Using this tool, you can begin to explore this sad episode in American history.\n",
    "\n",
    "#### To get started, please go to \"Cell > Run All\""
   ]
  },
  {
   "cell_type": "code",
   "execution_count": 2,
   "id": "35d7d4e7",
   "metadata": {},
   "outputs": [],
   "source": [
    "from whoosh.index import open_dir\n",
    "ix = open_dir(\"tuskegee_index\")"
   ]
  },
  {
   "cell_type": "code",
   "execution_count": 3,
   "id": "a5d6c26c",
   "metadata": {},
   "outputs": [],
   "source": [
    "import ipywidgets as widgets\n",
    "from whoosh import query\n",
    "from whoosh.qparser import QueryParser\n",
    "from IPython.display import display, HTML, clear_output\n",
    "import re\n",
    "\n",
    "def on_button_click(b):\n",
    "    query_str = search_bar.value\n",
    "    parser = QueryParser(\"text\", ix.schema)\n",
    "    query = parser.parse(query_str)\n",
    "\n",
    "    html_template = \"\"\"\n",
    "    <p>{hit}</p>\n",
    "    <hr/>\n",
    "    \"\"\".strip()\n",
    "\n",
    "    with output:\n",
    "        clear_output()\n",
    "        \n",
    "    with output:\n",
    "        with ix.searcher() as searcher:\n",
    "            results = searcher.search(query, limit=None)\n",
    "            results.fragmenter.maxchars = 1500\n",
    "            results.fragmenter.surround = 350\n",
    "            for i, hit in enumerate(results):\n",
    "                display(HTML(f\"<h3>Hit {i+1} of {len(results)}</h3>\"))\n",
    "                display(HTML(f\"<h4>{hit['title']}</h4>\"))\n",
    "                r = re.split('\\w\\.\\.\\.\\w', hit.highlights(\"text\").replace(\"\\n\\n\", \"\"))\n",
    "                for h in r:\n",
    "                    display(HTML(html_template.format(hit=h)))\n",
    "                \n",
    "search_bar = widgets.Text(\n",
    "    value='',\n",
    "    placeholder='Search anything',\n",
    "    disabled=False   \n",
    ")\n",
    "\n",
    "button = widgets.Button(description=\"Search\")\n",
    "button.on_click(on_button_click)\n",
    "output = widgets.Output()"
   ]
  },
  {
   "cell_type": "markdown",
   "id": "0961e890",
   "metadata": {},
   "source": [
    "### Start searching\n",
    "\n",
    "#### Searching tips:\n",
    "* If you'd like to search for just a single term, you can enter it in the box below. \n",
    "* If you'd like to search for a phrase, you can enclose it in quotations, such as \"serious complications\".\n",
    "* A query like \"serious complications\"~5 would return results where \"serious\" and \"complications\" are at most 5 words away from each other.\n",
    "* AND can be used as a boolean operator and will return results where two terms are both in a passage. AND is automatically placed in a query of two words, so 'latent syphilis' is internally represented as latent AND syphilis.\n",
    "* OR can be used as a boolean operator and will return results where either one of two terms are in a passage.\n",
    "* NOT can be used as a boolean operator and will return results which do not include the term following the NOT.\n",
    "* From these boolean operators, one can construct complex queries like: syphilis AND hospitals NOT \"serious complications\". This query would return results that have both syphilis and hospitals in them, but do not have \"serious complications\".\n",
    "* Parentheses can be used to group boolean statements. For example, the query syphilis AND (\"serious complications\" OR  hospitals) would return results that have syphilis and either serious complications or hispitals in them. \n",
    "* If you'd like to search in a specific date range, you can specify it with the date: field. For example, year:[19500101 TO 19600101] syphilis would return results between January 1st, 1950 and January 1st, 1960 that have syphilis in them."
   ]
  },
  {
   "cell_type": "code",
   "execution_count": 4,
   "id": "7069ae75",
   "metadata": {
    "scrolled": false
   },
   "outputs": [
    {
     "data": {
      "application/vnd.jupyter.widget-view+json": {
       "model_id": "95f4fea1f78a4de09312fee795993b7f",
       "version_major": 2,
       "version_minor": 0
      },
      "text/plain": [
       "Text(value='', placeholder='Search anything')"
      ]
     },
     "metadata": {},
     "output_type": "display_data"
    },
    {
     "data": {
      "application/vnd.jupyter.widget-view+json": {
       "model_id": "f7b00224689e4cedbb68087ee6622f7a",
       "version_major": 2,
       "version_minor": 0
      },
      "text/plain": [
       "Button(description='Search', style=ButtonStyle())"
      ]
     },
     "metadata": {},
     "output_type": "display_data"
    },
    {
     "data": {
      "application/vnd.jupyter.widget-view+json": {
       "model_id": "0462cc8269e24659986465a826782aa3",
       "version_major": 2,
       "version_minor": 0
      },
      "text/plain": [
       "Output()"
      ]
     },
     "metadata": {},
     "output_type": "display_data"
    }
   ],
   "source": [
    "display(search_bar)\n",
    "display(button)\n",
    "display(output)"
   ]
  },
  {
   "cell_type": "code",
   "execution_count": 5,
   "id": "051f5ce4",
   "metadata": {
    "scrolled": true
   },
   "outputs": [
    {
     "data": {
      "text/html": [
       "<script>\n",
       "code_show=true; \n",
       "function code_toggle() {\n",
       " if (code_show){\n",
       " $('div.input').hide();\n",
       " } else {\n",
       " $('div.input').show();\n",
       " }\n",
       " code_show = !code_show\n",
       "} \n",
       "$( document ).ready(code_toggle);\n",
       "</script>\n",
       "<form action=\"javascript:code_toggle()\"><input type=\"submit\" value=\"Click here to toggle on/off the raw code.\"></form>"
      ],
      "text/plain": [
       "<IPython.core.display.HTML object>"
      ]
     },
     "execution_count": 5,
     "metadata": {},
     "output_type": "execute_result"
    }
   ],
   "source": [
    "HTML('''<script>\n",
    "code_show=true; \n",
    "function code_toggle() {\n",
    " if (code_show){\n",
    " $('div.input').hide();\n",
    " } else {\n",
    " $('div.input').show();\n",
    " }\n",
    " code_show = !code_show\n",
    "} \n",
    "$( document ).ready(code_toggle);\n",
    "</script>\n",
    "<form action=\"javascript:code_toggle()\"><input type=\"submit\" value=\"Click here to toggle on/off the raw code.\"></form>''')"
   ]
  },
  {
   "cell_type": "code",
   "execution_count": null,
   "id": "45d771ad",
   "metadata": {},
   "outputs": [],
   "source": []
  }
 ],
 "metadata": {
  "kernelspec": {
   "display_name": "Python 3 (ipykernel)",
   "language": "python",
   "name": "python3"
  },
  "language_info": {
   "codemirror_mode": {
    "name": "ipython",
    "version": 3
   },
   "file_extension": ".py",
   "mimetype": "text/x-python",
   "name": "python",
   "nbconvert_exporter": "python",
   "pygments_lexer": "ipython3",
   "version": "3.10.11"
  }
 },
 "nbformat": 4,
 "nbformat_minor": 5
}
